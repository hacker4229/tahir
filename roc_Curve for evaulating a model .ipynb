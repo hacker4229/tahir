{
 "cells": [
  {
   "cell_type": "markdown",
   "metadata": {},
   "source": [
    "## 4 Evaluation of model \n"
   ]
  },
  {
   "cell_type": "markdown",
   "metadata": {},
   "source": [
    "#### 4.2 ROC (reciever opertaing characteristics) curve and AUC score "
   ]
  },
  {
   "cell_type": "code",
   "execution_count": 5,
   "metadata": {},
   "outputs": [
    {
     "data": {
      "text/plain": [
       "array([[0.84, 0.16],\n",
       "       [0.21, 0.79],\n",
       "       [0.81, 0.19],\n",
       "       [0.98, 0.02],\n",
       "       [0.85, 0.15],\n",
       "       [0.94, 0.06],\n",
       "       [0.93, 0.07],\n",
       "       [0.32, 0.68],\n",
       "       [0.99, 0.01],\n",
       "       [0.11, 0.89]])"
      ]
     },
     "execution_count": 5,
     "metadata": {},
     "output_type": "execute_result"
    }
   ],
   "source": [
    "# get the data \n",
    "\n",
    "import pandas as pd\n",
    "import numpy as np \n",
    "np.random.seed(1)\n",
    "\n",
    "heart_disease = pd.read_csv(\"13.1 heart-disease.csv\")\n",
    "heart_disease\n",
    "\n",
    "# split into X features and Y labels\n",
    "X = heart_disease.drop(\"target\",axis=1)\n",
    "Y = heart_disease[\"target\"]\n",
    "\n",
    "# choose a model \n",
    "\n",
    "from sklearn.ensemble import RandomForestClassifier \n",
    "clf = RandomForestClassifier()\n",
    "\n",
    "# Split into train and test \n",
    "\n",
    "from sklearn.model_selection import train_test_split\n",
    "X_train, X_test, Y_train, Y_test = train_test_split(X,Y,test_size=0.2)\n",
    "\n",
    "# fit the model \n",
    "\n",
    "clf.fit(X_train, Y_train)\n",
    "\n",
    "# predict the probability of a model \n",
    "\n",
    "preds = clf.predict_proba(X_test)\n",
    "preds[:10]"
   ]
  },
  {
   "cell_type": "code",
   "execution_count": 7,
   "metadata": {},
   "outputs": [
    {
     "data": {
      "text/plain": [
       "array([0.16, 0.79, 0.19, 0.02, 0.15, 0.06, 0.07, 0.68, 0.01, 0.89, 0.64,\n",
       "       0.4 , 0.87, 0.4 , 0.38, 0.74, 0.96, 0.16, 0.85, 0.66, 0.87, 0.11,\n",
       "       0.63, 0.78, 0.88, 0.95, 0.03, 0.89, 0.76, 0.94, 1.  , 0.95, 0.79,\n",
       "       0.63, 0.11, 0.66, 0.39, 0.31, 0.69, 0.24, 0.84, 0.09, 0.28, 0.03,\n",
       "       0.48, 0.83, 0.1 , 0.46, 0.71, 0.57, 1.  , 0.72, 0.5 , 0.67, 0.93,\n",
       "       0.9 , 0.54, 0.04, 0.69, 0.1 , 0.28])"
      ]
     },
     "execution_count": 7,
     "metadata": {},
     "output_type": "execute_result"
    }
   ],
   "source": [
    "# select probabilty value having truth value = 1 \n",
    "preds_positive = preds[:,1]\n",
    "preds_positive"
   ]
  },
  {
   "cell_type": "code",
   "execution_count": 10,
   "metadata": {},
   "outputs": [
    {
     "data": {
      "text/plain": [
       "array([0.        , 0.        , 0.        , 0.        , 0.        ,\n",
       "       0.        , 0.        , 0.03333333, 0.03333333, 0.06666667,\n",
       "       0.06666667, 0.06666667, 0.16666667, 0.23333333, 0.23333333,\n",
       "       0.26666667, 0.26666667, 0.26666667, 0.26666667, 0.33333333,\n",
       "       0.33333333, 0.4       , 0.4       , 0.46666667, 0.46666667,\n",
       "       0.46666667, 0.5       , 0.56666667, 0.6       , 0.73333333,\n",
       "       0.86666667, 0.93333333, 1.        ])"
      ]
     },
     "execution_count": 10,
     "metadata": {},
     "output_type": "execute_result"
    }
   ],
   "source": [
    "# roc curve \n",
    "\n",
    "from sklearn.metrics import roc_curve\n",
    "fpr,tpr,threshold = roc_curve(Y_test,preds_positive)\n",
    "fpr"
   ]
  },
  {
   "cell_type": "code",
   "execution_count": 11,
   "metadata": {},
   "outputs": [
    {
     "data": {
      "image/png": "[encoded data removed]",
      "text/plain": [
       "<Figure size 432x288 with 1 Axes>"
      ]
     },
     "metadata": {
      "needs_background": "light"
     },
     "output_type": "display_data"
    }
   ],
   "source": [
    "# plot a roc curve \n",
    "\n",
    "import matplotlib.pyplot as plt\n",
    "def plot_roc_curve(fpr,tpr):\n",
    "    \"\"\"\n",
    "    Draws a roc curve given false positive rate and true postive rate \n",
    "    \"\"\"\n",
    "    # plots the curve \n",
    "    plt.plot(fpr, tpr, color='orange', label=\"Roc curve\")\n",
    "    \n",
    "    plt.xlabel(\"false positive rate\")\n",
    "    plt.ylabel(\"true positive rate\")\n",
    "    plt.title(\"reciever operating characteristics\")\n",
    "    plt.legend()\n",
    "    plt.show()\n",
    "    \n",
    "plot_roc_curve(fpr,tpr)\n",
    "    "
   ]
  },
  {
   "cell_type": "code",
   "execution_count": 13,
   "metadata": {},
   "outputs": [
    {
     "data": {
      "text/plain": [
       "0.853763440860215"
      ]
     },
     "execution_count": 13,
     "metadata": {},
     "output_type": "execute_result"
    }
   ],
   "source": [
    "# calculate the auc score ie area under the curve\n",
    "\n",
    "from sklearn.metrics import roc_auc_score\n",
    "roc_auc_score(Y_test,preds_positive)"
   ]
  },
  {
   "cell_type": "markdown",
   "metadata": {},
   "source": [
    "### confusion matrix \n"
   ]
  },
  {
   "cell_type": "code",
   "execution_count": 17,
   "metadata": {},
   "outputs": [
    {
     "data": {
      "text/plain": [
       "array([[22,  8],\n",
       "       [ 5, 26]], dtype=int64)"
      ]
     },
     "execution_count": 17,
     "metadata": {},
     "output_type": "execute_result"
    }
   ],
   "source": [
    "from sklearn.metrics import confusion_matrix\n",
    "\n",
    "y_preds = clf.predict(X_test)\n",
    "\n",
    "confusion_matrix(Y_test,y_preds)"
   ]
  },
  {
   "cell_type": "code",
   "execution_count": 20,
   "metadata": {},
   "outputs": [
    {
     "data": {
      "text/html": [
       "<div>\n",
       "<style scoped>\n",
       "    .dataframe tbody tr th:only-of-type {\n",
       "        vertical-align: middle;\n",
       "    }\n",
       "\n",
       "    .dataframe tbody tr th {\n",
       "        vertical-align: top;\n",
       "    }\n",
       "\n",
       "    .dataframe thead th {\n",
       "        text-align: right;\n",
       "    }\n",
       "</style>\n",
       "<table border=\"1\" class=\"dataframe\">\n",
       "  <thead>\n",
       "    <tr style=\"text-align: right;\">\n",
       "      <th>predicted model</th>\n",
       "      <th>0</th>\n",
       "      <th>1</th>\n",
       "    </tr>\n",
       "    <tr>\n",
       "      <th>actual model</th>\n",
       "      <th></th>\n",
       "      <th></th>\n",
       "    </tr>\n",
       "  </thead>\n",
       "  <tbody>\n",
       "    <tr>\n",
       "      <th>0</th>\n",
       "      <td>22</td>\n",
       "      <td>8</td>\n",
       "    </tr>\n",
       "    <tr>\n",
       "      <th>1</th>\n",
       "      <td>5</td>\n",
       "      <td>26</td>\n",
       "    </tr>\n",
       "  </tbody>\n",
       "</table>\n",
       "</div>"
      ],
      "text/plain": [
       "predicted model   0   1\n",
       "actual model           \n",
       "0                22   8\n",
       "1                 5  26"
      ]
     },
     "execution_count": 20,
     "metadata": {},
     "output_type": "execute_result"
    }
   ],
   "source": [
    "pd.crosstab(Y_test,\n",
    "            y_preds,\n",
    "            rownames=['actual model'],\n",
    "            colnames =['predicted model'])"
   ]
  },
  {
   "cell_type": "code",
   "execution_count": 2,
   "metadata": {},
   "outputs": [
    {
     "data": {
      "text/plain": [
       "array([[0.84, 0.16],\n",
       "       [0.21, 0.79],\n",
       "       [0.81, 0.19],\n",
       "       [0.98, 0.02],\n",
       "       [0.85, 0.15],\n",
       "       [0.94, 0.06],\n",
       "       [0.93, 0.07],\n",
       "       [0.32, 0.68],\n",
       "       [0.99, 0.01],\n",
       "       [0.11, 0.89]])"
      ]
     },
     "execution_count": 2,
     "metadata": {},
     "output_type": "execute_result"
    }
   ],
   "source": [
    "# ROC CURVE \n",
    "\n",
    "import pandas as pd \n",
    "import numpy as np \n",
    "np.random.seed(1)\n",
    "\n",
    "import pandas as pd\n",
    "import numpy as np \n",
    "np.random.seed(1)\n",
    "\n",
    "heart_disease = pd.read_csv(\"13.1 heart-disease.csv\")\n",
    "heart_disease\n",
    "\n",
    "# split into X features and Y labels\n",
    "X = heart_disease.drop(\"target\",axis=1)\n",
    "Y = heart_disease[\"target\"]\n",
    "\n",
    "# choose a model \n",
    "\n",
    "from sklearn.ensemble import RandomForestClassifier \n",
    "clf = RandomForestClassifier()\n",
    "\n",
    "# Split into train and test \n",
    "\n",
    "from sklearn.model_selection import train_test_split\n",
    "X_train, X_test, Y_train, Y_test = train_test_split(X,Y,test_size=0.2)\n",
    "\n",
    "# fit the model \n",
    "\n",
    "clf.fit(X_train, Y_train)\n",
    "\n",
    "# predict the probability of a model \n",
    "\n",
    "preds = clf.predict_proba(X_test)\n",
    "preds[:10]"
   ]
  },
  {
   "cell_type": "code",
   "execution_count": 6,
   "metadata": {},
   "outputs": [
    {
     "data": {
      "text/plain": [
       "array([0.16, 0.79, 0.19, 0.02, 0.15, 0.06, 0.07, 0.68, 0.01, 0.89])"
      ]
     },
     "execution_count": 6,
     "metadata": {},
     "output_type": "execute_result"
    }
   ],
   "source": [
    "# calculate probablities with postive value ie values of index = 1\n",
    "\n",
    "pred_positive = preds[:,1]\n",
    "pred_positive[:10]"
   ]
  },
  {
   "cell_type": "code",
   "execution_count": 8,
   "metadata": {},
   "outputs": [
    {
     "data": {
      "text/plain": [
       "array([0.        , 0.        , 0.        , 0.        , 0.        ,\n",
       "       0.        , 0.        , 0.03333333, 0.03333333, 0.06666667,\n",
       "       0.06666667, 0.06666667, 0.16666667, 0.23333333, 0.23333333,\n",
       "       0.26666667, 0.26666667, 0.26666667, 0.26666667, 0.33333333,\n",
       "       0.33333333, 0.4       , 0.4       , 0.46666667, 0.46666667,\n",
       "       0.46666667, 0.5       , 0.56666667, 0.6       , 0.73333333,\n",
       "       0.86666667, 0.93333333, 1.        ])"
      ]
     },
     "execution_count": 8,
     "metadata": {},
     "output_type": "execute_result"
    }
   ],
   "source": [
    "# ROC curve \n",
    "\n",
    "from sklearn.metrics import roc_curve \n",
    "\n",
    "fpr, tpr, thershold = roc_curve(Y_test, pred_positive)\n",
    "fpr"
   ]
  },
  {
   "cell_type": "code",
   "execution_count": 13,
   "metadata": {},
   "outputs": [
    {
     "data": {
      "image/png": "[encoded data removed]",
      "text/plain": [
       "<Figure size 432x288 with 1 Axes>"
      ]
     },
     "metadata": {
      "needs_background": "light"
     },
     "output_type": "display_data"
    }
   ],
   "source": [
    "# draw a curve for better visulatizatin \n",
    "import matplotlib.pyplot as plt\n",
    "def plot_roc_curve(fpr, tpr):\n",
    "    \"\"\"\n",
    "    plot roc curve given false positive and true positive rate \n",
    "    \"\"\"\n",
    "    # plot the roc/area under curve \n",
    "    plt.plot(fpr, tpr, color = \"orange\" ,label =\"Roc curve\" )\n",
    "    \n",
    "    plt.xlabel(\"false positive rates\")\n",
    "    plt.ylabel(\"true positive rates\")\n",
    "    plt.title(\"reciever characteristics curve\")\n",
    "    plt.legend()\n",
    "    plt.show()\n",
    "    \n",
    "plot_roc_curve(fpr,tpr)"
   ]
  },
  {
   "cell_type": "code",
   "execution_count": 18,
   "metadata": {},
   "outputs": [
    {
     "data": {
      "text/plain": [
       "0.853763440860215"
      ]
     },
     "execution_count": 18,
     "metadata": {},
     "output_type": "execute_result"
    }
   ],
   "source": [
    "# calculate auc score \n",
    "\n",
    "from sklearn.metrics import roc_auc_score\n",
    "auc_score = roc_auc_score(Y_test, pred_positive)\n",
    "auc_score "
   ]
  },
  {
   "cell_type": "markdown",
   "metadata": {},
   "source": [
    "it means 85% is under the curve "
   ]
  },
  {
   "cell_type": "code",
   "execution_count": null,
   "metadata": {},
   "outputs": [],
   "source": []
  }
 ],
 "metadata": {
  "kernelspec": {
   "display_name": "Python 3",
   "language": "python",
   "name": "python3"
  },
  "language_info": {
   "codemirror_mode": {
    "name": "ipython",
    "version": 3
   },
   "file_extension": ".py",
   "mimetype": "text/x-python",
   "name": "python",
   "nbconvert_exporter": "python",
   "pygments_lexer": "ipython3",
   "version": "3.7.6"
  }
 },
 "nbformat": 4,
 "nbformat_minor": 4
}
